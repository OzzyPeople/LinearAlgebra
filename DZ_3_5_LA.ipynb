{
 "cells": [
  {
   "cell_type": "markdown",
   "metadata": {},
   "source": [
    "Задачи на поиск собтсвенного числа и собственного вектора матрицы"
   ]
  },
  {
   "cell_type": "markdown",
   "metadata": {},
   "source": [
    "__1.__ **Найти собственные векторы и собственные значения для линейного оператора, заданного матрицей**\n",
    "\n",
    "$$A=\\begin{pmatrix}\n",
    "-1 & -6\\\\ \n",
    "2 & 6\n",
    "\\end{pmatrix}$$"
   ]
  },
  {
   "cell_type": "markdown",
   "metadata": {},
   "source": [
    "$$\\begin{pmatrix}\n",
    "-1 & -6\\\\ \n",
    "2 & 6\n",
    "\\end{pmatrix}\n",
    "*\n",
    "\\begin {pmatrix}\n",
    "x\\\\ \n",
    "y\n",
    "\\end{pmatrix}\n",
    "= \\lambda \\begin {pmatrix}\n",
    "x\\\\ \n",
    "y\n",
    "\\end{pmatrix}\n",
    "= \\begin {pmatrix}\n",
    "\\lambda x\\\\ \n",
    "\\lambda y\n",
    "\\end{pmatrix}$$"
   ]
  },
  {
   "cell_type": "markdown",
   "metadata": {},
   "source": [
    "Получаем систему однородных линейных уравнений\n",
    "\n",
    "\n",
    "\\begin{cases} -1x  - 6y = \\lambda x\\\\ 2x + 6y = \\lambda y \\end{cases}\n",
    "<br>\n",
    "Перенесем все влево \n",
    "\\begin{cases} -1x  - 6y - \\lambda x = 0\\\\ 2x + 6y  - \\lambda y = 0\\end{cases}\n",
    "<br>\n",
    "Вынесем x и y \n",
    "\\begin{cases} x (-1 - \\lambda)  - 6y = 0\\\\ 2x + y (6 - \\lambda) = 0\\end{cases}"
   ]
  },
  {
   "cell_type": "markdown",
   "metadata": {},
   "source": [
    "По определению, собственный вектор не может быть нулевым , поэтому нас не устраивает тривиальное решение  системы. Следовательно, уравнения линейно зависимы и определитель матрицы системы равен нулю:"
   ]
  },
  {
   "cell_type": "markdown",
   "metadata": {},
   "source": [
    "$\\left| \\begin{array}{cc} -1 - \\lambda & -6 \\\\ 2 & 6 - \\lambda \\end{array} \\right| = 0$"
   ]
  },
  {
   "cell_type": "markdown",
   "metadata": {},
   "source": [
    "Раскроем определитель и решим квадратное уравнение:\n",
    "\n",
    "$$\n",
    "(-1 - \\lambda) * (6 - \\lambda )  - 2 * (-6) = 0 \\\\\n",
    "-6 + \\lambda - 6 \\lambda + \\lambda^2 + 12 = 0 \\\\\n",
    "\\lambda^2 - 5 \\lambda + 6 = 0 \n",
    "$$"
   ]
  },
  {
   "cell_type": "markdown",
   "metadata": {},
   "source": [
    "$$ D = 25 - 4*1*6 = 1 \\\\\n",
    "\\lambda_{1} = (- (-5) + 1) / 2*1 = 2 \\\\\n",
    "\\lambda_{2} = (- (-5) - 1) / 2*1 = 3 \\\\\n",
    "$$"
   ]
  },
  {
   "cell_type": "markdown",
   "metadata": {},
   "source": [
    "Получены различные **собственные числа (2 и 3)**  и каждому из них соответствует свои собственные векторы.\n",
    "\n",
    "\\begin{cases} x (-1 - \\lambda)  - 6y = 0\\\\ 2x + y (6 - \\lambda) = 0\\end{cases}\n",
    "<br>\n",
    "\\begin{cases} x (-1 - 2)  - 6y = 0\\\\ 2x + y (6 - 2) = 0\\end{cases}\n",
    "<br>\n",
    "Найдем первый собственный вектор $$u_{1}=\\lambda = \\lambda_{1}$$\n",
    "<br>\n",
    "$$\\begin{cases}  - 3x  - 6y = 0\\\\ 2x + 4y  = 0 \\end {cases}\t\\Rightarrow x = -2y  $$\n",
    "<br>\n",
    "x или y могут принимать бесконечные варианты произвольных значений, пусть y = -1, тогда получаем **первый собственный вектор**\n",
    "<br>\n",
    "<br>\n",
    "$$u_{1} = \\begin{pmatrix}\n",
    "2\\\\ \n",
    "-1\n",
    "\\end{pmatrix}$$\n",
    "Подставим значения и проверим систему\n",
    "\\begin{cases}  - 3*2  - 6*(-1) = 0\\\\ 2*2 + 4*(-1)  = 0 \\end{cases}\t"
   ]
  },
  {
   "cell_type": "markdown",
   "metadata": {},
   "source": [
    "Найдем второй собственный вектор u_{2} для $$\\lambda = \\lambda_{2} = 3$$\n",
    "<br>\n",
    "\\begin{cases} x (-1 - 3)  - 6y = 0\\\\ 2x + y (6 - 3) = 0\\end{cases}\n",
    "<br>\n",
    "$$\\begin{cases}  - 4x  - 6y = 0\\\\ 2x + 3y  = 0 \\end {cases}\t\\Rightarrow x = -\\frac{3}{2}y  $$\n",
    "<br>\n",
    "Пусть y = -2, тогда получаем **второй собственный вектор**: \n",
    "$$u_{2} = \\begin{pmatrix}\n",
    "3\\\\ \n",
    "-2\n",
    "\\end{pmatrix}$$\n",
    "Подставим значения и проверим систему:\n",
    "\\begin{cases}  - 4*3  - 6*(-2) = 0\\\\ 2*3 + 3*(-2)  = 0 \\end{cases}\t"
   ]
  },
  {
   "cell_type": "markdown",
   "metadata": {},
   "source": [
    "Ответ: <br>\n",
    "1) собственные числа = 2, 3 <br>\n",
    "2) Собственные вектора:\n",
    "$$u_{1} = \\begin{pmatrix}\n",
    "2\\\\ \n",
    "-1\n",
    "\\end{pmatrix}$$\n",
    "<br>\n",
    "$$u_{2} = \\begin{pmatrix}\n",
    "3\\\\ \n",
    "-2\n",
    "\\end{pmatrix}$$"
   ]
  },
  {
   "cell_type": "markdown",
   "metadata": {},
   "source": [
    "__2.__ **Дан оператор поворота на 180 градусов, задаваемый матрицей**\n",
    "\n",
    "$$A=\\begin{pmatrix}\n",
    "-1 & 0\\\\ \n",
    "0 & -1\n",
    "\\end{pmatrix}.$$\n",
    "\n",
    "Показать, что __любой__ вектор является для него собственным."
   ]
  },
  {
   "cell_type": "markdown",
   "metadata": {},
   "source": [
    "**Решение**: \n",
    "\n",
    "$$\\begin{pmatrix}\n",
    "-1 & 0\\\\ \n",
    "0 & -1\n",
    "\\end{pmatrix}\n",
    "*\n",
    "\\begin {pmatrix}\n",
    "x\\\\ \n",
    "y\n",
    "\\end{pmatrix}\n",
    "= \\lambda \\begin {pmatrix}\n",
    "x\\\\ \n",
    "y\n",
    "\\end{pmatrix}\n",
    "= \\begin {pmatrix}\n",
    "\\lambda x\\\\ \n",
    "\\lambda y\n",
    "\\end{pmatrix}$$"
   ]
  },
  {
   "cell_type": "markdown",
   "metadata": {},
   "source": [
    "Получаем систему однородных линейных уравнений\n",
    "\n",
    "\n",
    "\\begin{cases} -x  = \\lambda x\\\\ -y = \\lambda y \\end{cases}\n",
    "<br>\n",
    "Перенесем все влево \n",
    "\\begin{cases} -x  - \\lambda x = 0\\\\ -y  - \\lambda y = 0\\end{cases}\n",
    "<br>\n",
    "Вынесем x и y \n",
    "\\begin{cases} x (-1 - \\lambda) = 0\\\\ y (-1 - \\lambda) = 0\\end{cases}"
   ]
  },
  {
   "cell_type": "markdown",
   "metadata": {},
   "source": [
    "По определению, собственный вектор не может быть нулевым , cледовательно, уравнения линейно зависимы и определитель матрицы системы равен нулю:"
   ]
  },
  {
   "cell_type": "markdown",
   "metadata": {},
   "source": [
    "$\\left| \\begin{array}{cc} -1 - \\lambda & 0 \\\\ 0& -1 - \\lambda \\end{array} \\right| = 0$"
   ]
  },
  {
   "cell_type": "markdown",
   "metadata": {},
   "source": [
    "Раскроем определитель, получим характеристическое уравнение и решим квадратное уравнение:\n",
    "\n",
    "$$(-1 - \\lambda)^2 = 0$$\n",
    "\n",
    "Получаем собственное число матрицы:\n",
    "$$\\lambda_{1}\\lambda_{2} = -1 $$"
   ]
  },
  {
   "cell_type": "markdown",
   "metadata": {},
   "source": [
    "Подставим собтсвенное число, чтобы найти собственный вектор:\n",
    "    \n",
    "<br>\n",
    "\\begin{cases} x*(-1 - (-1)) + y * 0 = 0\\\\ y*(-1 - (-1)) + y * 0 = 0\\end{cases}\n",
    "<br>\n",
    "\n",
    "В этом случае, может быть любой собственный вектор. "
   ]
  },
  {
   "cell_type": "markdown",
   "metadata": {},
   "source": [
    "Пример.\n",
    "\n",
    "при повороте на 180 градусов любой ненулевой вектор отображается в коллинеарный и противоположно направленный вектор.\n",
    "\n",
    "$$\\begin{pmatrix}\n",
    "-1 & 0\\\\ \n",
    "0 & -1\n",
    "\\end{pmatrix}.\n",
    "\\begin {pmatrix}\n",
    "1\\\\ \n",
    "0\n",
    "\\end{pmatrix} =\n",
    "\\begin {pmatrix}\n",
    "-1\\\\ \n",
    "0\n",
    "\\end{pmatrix}\n",
    "= -1 \\begin {pmatrix}\n",
    "1\\\\ \n",
    "0\n",
    "\\end{pmatrix}\n",
    "$$"
   ]
  },
  {
   "cell_type": "markdown",
   "metadata": {},
   "source": [
    "__3.__ **Пусть линейный оператор задан матрицей**\n",
    "\n",
    "$$A=\\begin{pmatrix}\n",
    "1 & 1\\\\ \n",
    "-1 & 3\n",
    "\\end{pmatrix}.$$\n",
    "\n",
    "Установить, является ли вектор $x=(1,1)$ собственным вектором этого линейного оператора."
   ]
  },
  {
   "cell_type": "markdown",
   "metadata": {},
   "source": [
    "Умножим вектор на матрицу\n",
    "\n",
    "$$\\begin{pmatrix}\n",
    "1 & 1\\\\ \n",
    "-1 & 3\n",
    "\\end{pmatrix}.\n",
    "\\begin{pmatrix}\n",
    "1 \\\\ \n",
    "1\n",
    "\\end{pmatrix} =\n",
    "\\begin{pmatrix}\n",
    "2 \\\\ \n",
    "2\n",
    "\\end{pmatrix} = 2*\n",
    "\\begin{pmatrix}\n",
    "1 \\\\ \n",
    "1\n",
    "\\end{pmatrix}\n",
    "$$"
   ]
  },
  {
   "cell_type": "markdown",
   "metadata": {},
   "source": [
    "Ответ: да, собственное число = 2"
   ]
  },
  {
   "cell_type": "markdown",
   "metadata": {},
   "source": [
    "**__4.__ Пусть линейный оператор задан матрицей**\n",
    "\n",
    "$$A=\\begin{pmatrix}\n",
    "0 & 3 & 0\\\\ \n",
    "3 & 0 & 0\\\\\n",
    "0 & 0 & 3\n",
    "\\end{pmatrix}.$$\n",
    "\n",
    "Установить, является ли вектор $x=(3, -3, -4)$ собственным вектором этого линейного оператора."
   ]
  },
  {
   "cell_type": "markdown",
   "metadata": {},
   "source": [
    "Умножим вектор на матрицу\n",
    "\n",
    "$$\\begin{pmatrix}\n",
    "0 & 3 & 0\\\\ \n",
    "3 & 0 & 0\\\\\n",
    "0 & 0 & 3\n",
    "\\end{pmatrix}.\n",
    "\\begin{pmatrix}\n",
    "3 \\\\ \n",
    "-3\\\\ \n",
    "-4\n",
    "\\end{pmatrix} =\n",
    "\\begin{pmatrix}\n",
    "-9 \\\\ \n",
    "9\\\\\n",
    "12\n",
    "\\end{pmatrix} = -3*\n",
    "\\begin{pmatrix}\n",
    "3 \\\\ \n",
    "-3\\\\ \n",
    "-4\n",
    "\\end{pmatrix}\n",
    "$$"
   ]
  },
  {
   "cell_type": "markdown",
   "metadata": {},
   "source": [
    "Ответ: да, собственное число = -3"
   ]
  },
  {
   "cell_type": "code",
   "execution_count": null,
   "metadata": {},
   "outputs": [],
   "source": []
  }
 ],
 "metadata": {
  "kernelspec": {
   "display_name": "Python 3",
   "language": "python",
   "name": "python3"
  },
  "language_info": {
   "codemirror_mode": {
    "name": "ipython",
    "version": 3
   },
   "file_extension": ".py",
   "mimetype": "text/x-python",
   "name": "python",
   "nbconvert_exporter": "python",
   "pygments_lexer": "ipython3",
   "version": "3.7.3"
  }
 },
 "nbformat": 4,
 "nbformat_minor": 2
}
