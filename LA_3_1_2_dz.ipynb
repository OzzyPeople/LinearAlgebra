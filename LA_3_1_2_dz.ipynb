{
 "cells": [
  {
   "cell_type": "code",
   "execution_count": 75,
   "metadata": {},
   "outputs": [],
   "source": [
    "import matplotlib.pyplot as plt\n",
    "import numpy as np\n",
    "import numpy.linalg"
   ]
  },
  {
   "cell_type": "markdown",
   "metadata": {},
   "source": [
    "**Часть 1. Домашнее задание**"
   ]
  },
  {
   "cell_type": "markdown",
   "metadata": {},
   "source": [
    "__1.__ Исследовать на линейную зависимость:\n",
    "$$f_{1}(x)=e^{x}, f_{2}(x)=1, f_{3}(x)=x+1, f_{4}(x)=x-e^{x}.$$"
   ]
  },
  {
   "cell_type": "markdown",
   "metadata": {},
   "source": [
    "Используем определитель(W) Вронского, чтобы выявить линейную зависимость функций. Если W не равен 0, значит фукнции линейно независимы и наоборот. "
   ]
  },
  {
   "cell_type": "markdown",
   "metadata": {},
   "source": [
    "Найдем определить W матрицы: \n",
    "    \n",
    "\\begin{matrix} \n",
    "e^x & 1 & x + 1 & x - e^x \\\\\n",
    "e^x & 0 & 1 & 1 - e^x \\\\\n",
    "e^x & 0 & 0 & - e^x \\\\\n",
    "e^x & 0 & 0 & - e^x \\\\\n",
    "\\end{matrix}\n",
    "\n",
    "Значение определителя:<br>\n",
    "$$ W = -e^{2x}$$"
   ]
  },
  {
   "cell_type": "code",
   "execution_count": 35,
   "metadata": {},
   "outputs": [
    {
     "data": {
      "image/png": "[encoded data removed]",
      "text/plain": [
       "<Figure size 432x288 with 1 Axes>"
      ]
     },
     "metadata": {
      "needs_background": "light"
     },
     "output_type": "display_data"
    }
   ],
   "source": [
    "#Построим график и увидим, что существует множество значений функции определителя не равных 0, значит функции линейно независимы\n",
    "x = np.linspace(-3, 3, 100)\n",
    "f1 = -np.exp(2*x)\n",
    "plt.plot(x, f1)\n",
    "plt.show()"
   ]
  },
  {
   "cell_type": "markdown",
   "metadata": {},
   "source": [
    "__2.__ Исследовать на линейную зависимость:\n",
    "$$f_{1}(x)=2, f_{2}(x)=x, f_{3}(x)=x^{2}, f_{4}(x)=(x+1)^{2}.$$"
   ]
  },
  {
   "cell_type": "markdown",
   "metadata": {},
   "source": [
    "Используем определить(W) Вронского, чтобы определить линейную зависимость. Если W не равен 0, значит фукнции линейно независимы. "
   ]
  },
  {
   "cell_type": "markdown",
   "metadata": {},
   "source": [
    "Найдем определить W матрицы: \n",
    "    \n",
    "\\begin{matrix} \n",
    "2 & x & x^2 & (x+1)^2 \\\\\n",
    "0 & 1 & 2x & 2x+2 \\\\\n",
    "0 & 0 & 2 & - 2 \\\\\n",
    "0 & 0 & 0 & - 0 \\\\\n",
    "\\end{matrix}\n",
    "\n",
    "Значение определителя:<br>\n",
    "$$ W = 0 $$\n",
    "Так определитель Вронского равен 0, то функции линейно зависимы"
   ]
  },
  {
   "cell_type": "markdown",
   "metadata": {},
   "source": [
    "__3.__ Найти координаты вектора $x = (2, 3, 5)\\in \\mathbb{R}^{3}$ в базисе $b_{1}=(0, 0, 10)$, $b_{2}=(2, 0, 0)$, $b_{3}=(0, 1, 0)$.\n",
    "\n",
    "$ x = 2\\cdot(0, 0, 10) + 3 \\cdot (2, 0, 0)  + 5 \\cdot(0, 1, 0)$ <br>\n",
    "$ x =  (0, 0, 20) + (6, 0, 0)  + (0, 5, 0)$ <br>\n",
    "Ответ: \n",
    "$ x =  (6, 5, 20)$"
   ]
  },
  {
   "cell_type": "markdown",
   "metadata": {},
   "source": [
    "__4.__ Найти координаты вектора $3x^{2}-2x+2\\in\\mathbb{R}^{3}[x]$:\n"
   ]
  },
  {
   "cell_type": "markdown",
   "metadata": {},
   "source": [
    "   а) в базисе $1$, $x$, $x^{2}$;\n",
    "  \n",
    "  $w = 1 \\cdot (3x^{2}-2x+2) +  x \\cdot (3x^{2}-2x+2) + x^{2} \\cdot (3x^{2}-2x+2)$ <br>\n",
    "  $w = 3x^{2}-2x+2 + 3x^{3}-2x^{2}+2x + 3x^{4}-2x^{3}+2x^{2}$ <br>\n",
    "  $w = 3x^{2} +2 + x^{3} + 3x^{4} $"
   ]
  },
  {
   "cell_type": "markdown",
   "metadata": {},
   "source": [
    "б) в базисе $x^{2}$, $x-1$, $1$.\n",
    "\n",
    "  $w = x^{2} \\cdot (3x^{2}-2x+2) +  (x-1) \\cdot (3x^{2}-2x+2) + 1 \\cdot (3x^{2}-2x+2)$ <br>\n",
    "  $w =  3x^{4}-2x^{3}+2x^{2} + 3x^{3}-2x^{2}+2x - 3x^{2}+ 2x - 2 + 3x^{2}-2x+2$ <br>\n",
    "  $w =  3x^{4}+ x^{3}+2x $ <br>\n",
    "  $w =  x \\cdot (3x^{3}+ x^{2}+2)$ <br>"
   ]
  },
  {
   "cell_type": "markdown",
   "metadata": {},
   "source": [
    "__5.__ Установить, является ли линейным подпространством:\n",
    "\n",
    "а) совокупность всех векторов трехмерного пространства, у которых по крайней мере одна из первых двух координат равна нулю;\n",
    "    \n",
    "нет, подпространство это 2 плоскости XZ и YZ и если первый вектор будет в одной плоскости а второй в другой, то для них не сможет выполнится операция сложения - результат будет лежать вне этих плоскостей"
   ]
  },
  {
   "cell_type": "markdown",
   "metadata": {},
   "source": [
    "б) все векторы, являющиеся линейными комбинациями данных векторов $\\{u_{1}, u_{2}, ..., u_{n}\\}$.\n",
    "\n",
    "да"
   ]
  },
  {
   "cell_type": "markdown",
   "metadata": {},
   "source": [
    "**Часть 2. Домашнее задание**"
   ]
  },
  {
   "cell_type": "markdown",
   "metadata": {},
   "source": [
    "__1.__ Найти скалярное произведение векторов $x, y \\in \\mathbb{R}$:<br>\n",
    "а) $x=(0,-3, 6),~y=(-4, 7, 9);$<br>\n",
    "б) $x=(7, -4, 0, 1),~y=(-3, 1, 11, 2).$"
   ]
  },
  {
   "cell_type": "code",
   "execution_count": 41,
   "metadata": {},
   "outputs": [
    {
     "name": "stdout",
     "output_type": "stream",
     "text": [
      "Скалярное произведение x и y:\n",
      "33\n"
     ]
    }
   ],
   "source": [
    "# a) \n",
    "x1 = np.array([0, -3, 6])\n",
    "y1 = np.array([-4, 7, 9])\n",
    "print(f'Скалярное произведение x и y:\\n{np.dot(x1, y1)}')"
   ]
  },
  {
   "cell_type": "code",
   "execution_count": 43,
   "metadata": {},
   "outputs": [
    {
     "name": "stdout",
     "output_type": "stream",
     "text": [
      "Скалярное произведение x и y:\n",
      "-23\n"
     ]
    }
   ],
   "source": [
    "# b) \n",
    "x2 = np.array([7, -4, 0, 1])\n",
    "y2 = np.array([-3, 1, 11, 2])\n",
    "print(f'Скалярное произведение x и y:\\n{np.dot(x2, y2)}')"
   ]
  },
  {
   "cell_type": "markdown",
   "metadata": {},
   "source": [
    "__2.__ Найти нормы векторов $(4, 2, 4)$ и $(12, 3, 4)$ и угол между ними.\n"
   ]
  },
  {
   "cell_type": "code",
   "execution_count": 44,
   "metadata": {},
   "outputs": [],
   "source": [
    "from numpy.linalg import norm"
   ]
  },
  {
   "cell_type": "code",
   "execution_count": 52,
   "metadata": {},
   "outputs": [
    {
     "name": "stdout",
     "output_type": "stream",
     "text": [
      "норма вектора a:\n",
      "10.0\n",
      "норма вектора b:\n",
      "19.0\n"
     ]
    }
   ],
   "source": [
    "a = np.array([4, 2, 4])\n",
    "b = np.array([12, 3, 4])\n",
    "#Определим Евклидову норму вектора \n",
    "print(f'норма вектора a:\\n{norm(a, ord=1)}\\nнорма вектора b:\\n{norm(b, ord=1)}')"
   ]
  },
  {
   "cell_type": "code",
   "execution_count": 53,
   "metadata": {},
   "outputs": [
    {
     "name": "stdout",
     "output_type": "stream",
     "text": [
      "Косинус угла между a и b: 0.90\n",
      "Угол между a и b: 0.46\n"
     ]
    }
   ],
   "source": [
    "#определим угол между a и b\n",
    "\n",
    "cos_phi = np.dot(a, b) / norm(a) / norm(b)\n",
    "print(f'Косинус угла между a и b: {cos_phi:.2f}')\n",
    "print(f'Угол между a и b: {np.arccos(cos_phi):.2f}')"
   ]
  },
  {
   "cell_type": "markdown",
   "metadata": {},
   "source": [
    "__3.__ Будет ли линейное пространство евклидовым, если за скалярное произведение принять:<br>\n",
    "а) произведение длин векторов; - Да <br> \n",
    "б) утроенное обычное скалярное произведение векторов? - Нет"
   ]
  },
  {
   "cell_type": "markdown",
   "metadata": {},
   "source": [
    "__4.__ Какие из нижеперечисленных векторов образуют ортонормированный базис в линейном пространстве $\\mathbb{R}^{3}$:<br>\n",
    "а) $(1,0,0),(0,0,1);$ <br>\n",
    "б) $(1/\\sqrt{2},-1/\\sqrt{2},0),(1/\\sqrt{2},1/\\sqrt{2},0), (0,0,1);$<br>\n",
    "в) $(1/2, -1/2, 0), (0, 1/2, 1/2), (0,0,1);$<br>\n",
    "г) $(1,0,0),(0,1,0),(0,0,1)?$ "
   ]
  },
  {
   "cell_type": "markdown",
   "metadata": {},
   "source": [
    "Решение: ортонормированный базис является ортогональным (перпендекулярным) и состоит из векторов единичной длины. Поэтому проверим ортоогональность векторов т.е. вычислим их скалярное произведение и найдем их норму (длину), если она равна 1, значит векторы образуют ортонормированный базис"
   ]
  },
  {
   "cell_type": "markdown",
   "metadata": {},
   "source": [
    "а) $(1,0,0),(0,0,1);$ <br>"
   ]
  },
  {
   "cell_type": "code",
   "execution_count": 70,
   "metadata": {},
   "outputs": [
    {
     "name": "stdout",
     "output_type": "stream",
     "text": [
      "Скалярное произведение a и b = 0\n",
      "норма вектора a = 1.0 норма вектора b = 1.0\n"
     ]
    }
   ],
   "source": [
    "a1 = np.array([1, 0, 0])\n",
    "b1 = np.array([0, 0, 1])\n",
    "print(f'Скалярное произведение a и b = {np.dot(a1, b1)}')\n",
    "print(f'норма вектора a = {norm(a1, ord=1)} норма вектора b = {norm(b1, ord=1)}')"
   ]
  },
  {
   "cell_type": "markdown",
   "metadata": {},
   "source": [
    "**Ответ**: вектора a) образуют ортонормированный базис в линейном пространстве  ℝ3"
   ]
  },
  {
   "cell_type": "markdown",
   "metadata": {},
   "source": [
    "б) $(1/\\sqrt{2},-1/\\sqrt{2},0),(1/\\sqrt{2},1/\\sqrt{2},0), (0,0,1);$<br>"
   ]
  },
  {
   "cell_type": "code",
   "execution_count": 81,
   "metadata": {},
   "outputs": [
    {
     "name": "stdout",
     "output_type": "stream",
     "text": [
      "Скалярное произведение a, b, c = 0.9999999999999998\n",
      "норма вектора a = 1.414213562373095, норма вектора b = 1.414213562373095, норма вектора c = 1.0\n"
     ]
    }
   ],
   "source": [
    "a2 = np.array([1/np.sqrt(2), -1/np.sqrt(2), 0])\n",
    "b2 = np.array([1/np.sqrt(2), 1/np.sqrt(2), 0])\n",
    "c2 = np.array([0, 0, 1])\n",
    "m = a2, b2, c2 # cоздаем матрицу из трех векторов\n",
    "\n",
    "print(f'Скалярное произведение a, b, c = {np.linalg.det(m)}') # ищем определитель матрицы\n",
    "print(f'норма вектора a = {norm(a2, ord=1)}, норма вектора b = {norm(b2, ord=1)}, норма вектора c = {norm(c2, ord=1)}')"
   ]
  },
  {
   "cell_type": "markdown",
   "metadata": {},
   "source": [
    "**Ответ**: вектора b) не образуют ортонормированный базис в линейном пространстве  ℝ3"
   ]
  },
  {
   "cell_type": "markdown",
   "metadata": {},
   "source": [
    "в) $(1/2, -1/2, 0), (0, 1/2, 1/2), (0,0,1);$<br>"
   ]
  },
  {
   "cell_type": "code",
   "execution_count": 82,
   "metadata": {},
   "outputs": [
    {
     "name": "stdout",
     "output_type": "stream",
     "text": [
      "Скалярное произведение a, b, c = 0.25\n",
      "норма вектора a = 1.2071067811865475, норма вектора b = 1.0, норма вектора c = 1.0\n"
     ]
    }
   ],
   "source": [
    "a3 = np.array([1/2, -1/np.sqrt(2), 0])\n",
    "b3 = np.array([0, 1/2, 1/2])\n",
    "c3 = np.array([0, 0, 1])\n",
    "m1 = a3, b3, c3 # cоздаем матрицу из трех векторов\n",
    "print(f'Скалярное произведение a, b, c = {np.linalg.det(m1)}') # ищем определитель матрицы\n",
    "print(f'норма вектора a = {norm(a3, ord=1)}, норма вектора b = {norm(b3, ord=1)}, норма вектора c = {norm(c3, ord=1)}')"
   ]
  },
  {
   "cell_type": "markdown",
   "metadata": {},
   "source": [
    "**Ответ**: вектора c) не образуют ортонормированный базис в линейном пространстве  ℝ3"
   ]
  },
  {
   "cell_type": "markdown",
   "metadata": {},
   "source": [
    "г) $(1,0,0),(0,1,0),(0,0,1)?$ "
   ]
  },
  {
   "cell_type": "code",
   "execution_count": 85,
   "metadata": {},
   "outputs": [
    {
     "name": "stdout",
     "output_type": "stream",
     "text": [
      "Скалярное произведение a, b, c = 1.0\n",
      "норма вектора a = 1.0, норма вектора b = 1.0, норма вектора c = 1.0\n"
     ]
    }
   ],
   "source": [
    "a4 = np.array([1, 0, 0])\n",
    "b4 = np.array([0, 1, 0])\n",
    "c4 = np.array([0, 0, 1])\n",
    "m4 = a4, b4, c4 # cоздаем матрицу из трех векторов\n",
    "print(f'Скалярное произведение a, b, c = {np.linalg.det(m4)}') # ищем определитель матрицы\n",
    "print(f'норма вектора a = {norm(a4, ord=1)}, норма вектора b = {norm(b4, ord=1)}, норма вектора c = {norm(c4, ord=1)}')"
   ]
  },
  {
   "cell_type": "markdown",
   "metadata": {},
   "source": [
    "**Ответ**: вектора d) не образуют ортонормированный базис в линейном пространстве  ℝ3"
   ]
  },
  {
   "cell_type": "code",
   "execution_count": null,
   "metadata": {},
   "outputs": [],
   "source": []
  }
 ],
 "metadata": {
  "kernelspec": {
   "display_name": "Python 3",
   "language": "python",
   "name": "python3"
  },
  "language_info": {
   "codemirror_mode": {
    "name": "ipython",
    "version": 3
   },
   "file_extension": ".py",
   "mimetype": "text/x-python",
   "name": "python",
   "nbconvert_exporter": "python",
   "pygments_lexer": "ipython3",
   "version": "3.7.3"
  }
 },
 "nbformat": 4,
 "nbformat_minor": 2
}
